{
 "cells": [
  {
   "cell_type": "markdown",
   "metadata": {},
   "source": [
    "# Reinforcement Learning: Grid World Navigation\n",
    "\n",
    "## Problem Statement:\n",
    "In this Reinforcement Learning task, we will train an agent to navigate a 5x5 grid world. The agent starts from a random position and needs to find the optimal path to reach the goal while avoiding penalties. \n",
    "\n",
    "### Key Points:\n",
    "- The grid has obstacles that the agent should avoid.\n",
    "- The agent receives a positive reward when it reaches the goal.\n",
    "- The agent receives a negative reward if it hits an obstacle or goes out of bounds.\n",
    "- The agent will learn to maximize its cumulative reward over time by exploring the grid and learning the optimal strategy (policy) using Q-Learning.\n",
    "\n",
    "### Goal:\n",
    "- Train the agent to find the shortest and safest path from any starting position to the goal.\n",
    "- Implement and demonstrate a simple Q-Learning algorithm to achieve this.\n",
    "\n",
    "---\n",
    "\n",
    "## Steps Covered in the Notebook:\n",
    "1. **Environment Setup**:\n",
    "    - Define the 5x5 grid world with a goal and obstacles.\n",
    "    - Initialize the agent's starting position randomly.\n",
    "\n",
    "2. **Reward System**:\n",
    "    - Set rewards for reaching the goal (+100), hitting obstacles (-100), and each move (-1 for every step to encourage finding the shortest path).\n",
    "\n",
    "3. **Q-Learning Algorithm**:\n",
    "    - Define the Q-table, learning rate, and discount factor.\n",
    "    - Implement the Q-Learning update rule.\n",
    "\n",
    "4. **Training the Agent**:\n",
    "    - Set up the agent to train over several episodes.\n",
    "    - Allow the agent to explore the grid, learn from its mistakes, and improve its decision-making.\n",
    "\n",
    "5. **Testing**:\n",
    "    - After training, place the agent at random starting positions and observe its ability to find the optimal path to the goal.\n",
    "\n",
    "6. **Visualization**:\n",
    "    - Visualize the agent's path in the grid after training.\n",
    "    - Show how the agent avoids obstacles and reaches the goal efficiently.\n",
    "\n",
    "---\n",
    "\n",
    "## Q-Learning Concepts Used:\n",
    "- **Q-Table**: A matrix where each state-action pair is mapped to a value that represents the expected future reward.\n",
    "- **Learning Rate (α)**: Determines how much the agent updates its knowledge with each step.\n",
    "- **Discount Factor (γ)**: Balances short-term vs. long-term rewards.\n",
    "- **Exploration vs Exploitation**: Trade-off between trying new actions (exploration) and using known actions to maximize reward (exploitation).\n"
   ]
  },
  {
   "cell_type": "markdown",
   "metadata": {},
   "source": [
    "# Step 1: Environment Setup"
   ]
  },
  {
   "cell_type": "code",
   "execution_count": 42,
   "metadata": {},
   "outputs": [
    {
     "data": {
      "image/png": "[encoded data removed]",
      "text/plain": [
       "<Figure size 600x600 with 1 Axes>"
      ]
     },
     "metadata": {},
     "output_type": "display_data"
    }
   ],
   "source": [
    "import numpy as np\n",
    "import random\n",
    "import matplotlib.pyplot as plt\n",
    "from matplotlib import colors\n",
    "\n",
    "# Define the grid world dimensions\n",
    "GRID_SIZE = 10\n",
    "\n",
    "# Define the grid environment with a goal (G), obstacles (O), and starting point (S)\n",
    "env = np.zeros((GRID_SIZE, GRID_SIZE))\n",
    "start_position = (0, 0)\n",
    "goal_position = (9, 9)  # Goal is placed at the bottom-right corner\n",
    "\n",
    "# Add more obstacles for the 10x10 grid\n",
    "obstacles = [(2, 2), (3, 5), (5, 3), (6, 6), (7, 7), (4, 4), (1, 8), (8, 2)]\n",
    "\n",
    "# Mark the start, goal, and obstacles in the environment\n",
    "env[start_position] = 3  # Start (Yellow)\n",
    "env[goal_position] = 2  # Goal (Green)\n",
    "for obstacle in obstacles:\n",
    "    env[obstacle] = -1  # Obstacles (Blue)\n",
    "\n",
    "# Create a custom colormap for Start (Yellow), Goal (Green), Obstacles (Blue), Path (Gray), and Empty cells (Light blue)\n",
    "cmap = colors.ListedColormap(['blue', 'lightblue', 'yellow', 'green', 'gray'])\n",
    "\n",
    "# Function to visualize the grid world with the agent's path\n",
    "def show_grid_with_path(env, path):\n",
    "    env_copy = np.copy(env)  # Copy the environment to avoid modifying the original\n",
    "    # Mark the agent's path on the grid\n",
    "    for step in path:\n",
    "        if env_copy[step] == 0:  # Only mark the path on empty cells\n",
    "            env_copy[step] = 4  # Mark path with gray\n",
    "    \n",
    "    plt.figure(figsize=(6, 6))  # Adjust figure size for the smaller grid\n",
    "    plt.imshow(env_copy, cmap=cmap, interpolation='nearest')  # Use 'nearest' to avoid smoothing\n",
    "    plt.grid(True)\n",
    "    \n",
    "    # Set ticks to show the correct grid lines\n",
    "    plt.xticks(ticks=np.arange(0, GRID_SIZE, 1), labels=np.arange(0, GRID_SIZE, 1), fontsize=6)\n",
    "    plt.yticks(ticks=np.arange(0, GRID_SIZE, 1), labels=np.arange(0, GRID_SIZE, 1), fontsize=6)\n",
    "    \n",
    "    # Add the grid lines\n",
    "    plt.gca().set_xticks(np.arange(-0.5, GRID_SIZE, 1), minor=True)\n",
    "    plt.gca().set_yticks(np.arange(-0.5, GRID_SIZE, 1), minor=True)\n",
    "    plt.grid(which='minor', color='black', linestyle='-', linewidth=0.5)  # Use smaller grid lines\n",
    "    \n",
    "    # Set the limits to avoid cutting off the edges\n",
    "    plt.xlim(-0.5, GRID_SIZE-0.5)\n",
    "    plt.ylim(GRID_SIZE-0.5, -0.5)\n",
    "    \n",
    "    plt.show()\n",
    "\n",
    "# Example of agent's path (replace this with the actual path from your trained agent)\n",
    "example_path = [(0, 0), (0, 1), (1, 1), (2, 1), (3, 2), (4, 3), (5, 4), \n",
    "                (6, 5), (7, 6), (8, 7), (9, 8), (9, 9)]  # Updated path for 10x10 grid\n",
    "\n",
    "# Visualize the grid with the agent's path\n",
    "show_grid_with_path(env, example_path)\n"
   ]
  },
  {
   "cell_type": "markdown",
   "metadata": {},
   "source": [
    "# Step 2: Reward System"
   ]
  },
  {
   "cell_type": "code",
   "execution_count": 43,
   "metadata": {},
   "outputs": [
    {
     "name": "stdout",
     "output_type": "stream",
     "text": [
      "Reward Table:\n",
      "[[  -1   -1   -1   -1   -1   -1   -1   -1   -1   -1]\n",
      " [  -1   -1   -1   -1   -1   -1   -1   -1 -100   -1]\n",
      " [  -1   -1 -100   -1   -1   -1   -1   -1   -1   -1]\n",
      " [  -1   -1   -1   -1   -1 -100   -1   -1   -1   -1]\n",
      " [  -1   -1   -1   -1 -100   -1   -1   -1   -1   -1]\n",
      " [  -1   -1   -1 -100   -1   -1   -1   -1   -1   -1]\n",
      " [  -1   -1   -1   -1   -1   -1 -100   -1   -1   -1]\n",
      " [  -1   -1   -1   -1   -1   -1   -1 -100   -1   -1]\n",
      " [  -1   -1 -100   -1   -1   -1   -1   -1   -1   -1]\n",
      " [  -1   -1   -1   -1   -1   -1   -1   -1   -1  100]]\n"
     ]
    }
   ],
   "source": [
    "# Define the rewards for actions\n",
    "rewards = np.full((GRID_SIZE, GRID_SIZE), -1)  # Penalty for each move\n",
    "rewards[goal_position] = 100  # Reward for reaching the goal\n",
    "\n",
    "for obstacle in obstacles:\n",
    "    rewards[obstacle] = -100  # Penalty for hitting an obstacle\n",
    "\n",
    "# Show the reward table\n",
    "print(\"Reward Table:\")\n",
    "print(rewards)\n"
   ]
  },
  {
   "cell_type": "markdown",
   "metadata": {},
   "source": [
    "# Step 3: Q-Learning Algorithm"
   ]
  },
  {
   "cell_type": "code",
   "execution_count": 44,
   "metadata": {},
   "outputs": [],
   "source": [
    "# Initialize Q-table\n",
    "q_table = np.zeros((GRID_SIZE, GRID_SIZE, 4))  # Four possible actions (up, down, left, right)\n",
    "\n",
    "# Hyperparameters\n",
    "alpha = 0.1  # Learning rate\n",
    "gamma = 0.9  # Discount factor\n",
    "epsilon = 0.1  # Exploration factor\n",
    "num_episodes = 1000\n",
    "\n",
    "# Define possible actions\n",
    "actions = ['up', 'down', 'left', 'right']\n",
    "action_mapping = {'up': (-1, 0), 'down': (1, 0), 'left': (0, -1), 'right': (0, 1)}\n",
    "\n",
    "# Function to choose action (exploration vs exploitation)\n",
    "def choose_action(state):\n",
    "    if random.uniform(0, 1) < epsilon:  # Exploration\n",
    "        return random.choice(actions)\n",
    "    else:  # Exploitation\n",
    "        return actions[np.argmax(q_table[state[0], state[1]])]\n"
   ]
  },
  {
   "cell_type": "markdown",
   "metadata": {},
   "source": [
    "# Step 4: Training the Agent"
   ]
  },
  {
   "cell_type": "code",
   "execution_count": 45,
   "metadata": {},
   "outputs": [
    {
     "name": "stdout",
     "output_type": "stream",
     "text": [
      "Training completed!\n"
     ]
    }
   ],
   "source": [
    "# Function to move the agent in the grid\n",
    "def take_action(state, action):\n",
    "    delta = action_mapping[action]\n",
    "    new_state = (state[0] + delta[0], state[1] + delta[1])\n",
    "    if 0 <= new_state[0] < GRID_SIZE and 0 <= new_state[1] < GRID_SIZE:\n",
    "        return new_state\n",
    "    else:\n",
    "        return state  # Stay in the same position if out of bounds\n",
    "\n",
    "# Training loop\n",
    "for episode in range(num_episodes):\n",
    "    state = (random.randint(0, GRID_SIZE-1), random.randint(0, GRID_SIZE-1))  # Random start\n",
    "    done = False\n",
    "\n",
    "    while not done:\n",
    "        action = choose_action(state)\n",
    "        next_state = take_action(state, action)\n",
    "        reward = rewards[next_state]\n",
    "        \n",
    "        # Q-Learning update rule\n",
    "        best_future_q = np.max(q_table[next_state[0], next_state[1]])\n",
    "        q_table[state[0], state[1], actions.index(action)] += alpha * (reward + gamma * best_future_q - q_table[state[0], state[1], actions.index(action)])\n",
    "\n",
    "        state = next_state\n",
    "        if state == goal_position:\n",
    "            done = True\n",
    "\n",
    "print(\"Training completed!\")"
   ]
  },
  {
   "cell_type": "markdown",
   "metadata": {},
   "source": [
    "# Step 5: Testing the Agent"
   ]
  },
  {
   "cell_type": "code",
   "execution_count": 46,
   "metadata": {},
   "outputs": [
    {
     "name": "stdout",
     "output_type": "stream",
     "text": [
      "Agent's path: [(0, 0), (1, 0), (1, 1), (1, 2), (1, 3), (1, 4), (2, 4), (2, 5), (2, 6), (2, 7), (3, 7), (4, 7), (4, 8), (4, 9), (5, 9), (6, 9), (7, 9), (8, 9), (9, 9)]\n"
     ]
    }
   ],
   "source": [
    "# Function to test the agent's path\n",
    "def test_agent():\n",
    "    state = (0, 0)  # Fixed start at (0, 0)\n",
    "    # state = (random.randint(0, GRID_SIZE-1), random.randint(0, GRID_SIZE-1))  # Random start\n",
    "    path = [state]\n",
    "    \n",
    "    while state != goal_position:\n",
    "        action = actions[np.argmax(q_table[state[0], state[1]])]\n",
    "        state = take_action(state, action)\n",
    "        path.append(state)\n",
    "    \n",
    "    return path\n",
    "\n",
    "# Test the agent's path\n",
    "path = test_agent()\n",
    "print(\"Agent's path:\", path)\n"
   ]
  },
  {
   "cell_type": "markdown",
   "metadata": {},
   "source": [
    "# Step 6: Visualization"
   ]
  },
  {
   "cell_type": "code",
   "execution_count": 47,
   "metadata": {},
   "outputs": [
    {
     "data": {
      "image/png": "[encoded data removed]",
      "text/plain": [
       "<Figure size 600x600 with 1 Axes>"
      ]
     },
     "metadata": {},
     "output_type": "display_data"
    }
   ],
   "source": [
    "def visualize_path(path):\n",
    "    env_copy = np.copy(env)  # Make a copy to avoid modifying the original environment\n",
    "    \n",
    "    # Mark the agent's path on the copied environment\n",
    "    for step in path:\n",
    "        if env_copy[step] == 0:  # Only mark the path on empty cells (avoid marking obstacles and goal)\n",
    "            env_copy[step] = 4  # Set to 4 to map to gray in the colormap\n",
    "    \n",
    "    # Reuse the show_grid_with_path function for visualization\n",
    "    show_grid_with_path(env_copy, path)\n",
    "\n",
    "\n",
    "# Visualize the grid with the agent's path\n",
    "visualize_path(path)\n",
    "\n"
   ]
  },
  {
   "cell_type": "markdown",
   "metadata": {},
   "source": [
    "# Adding scope of Diagonal Movement"
   ]
  },
  {
   "cell_type": "code",
   "execution_count": 48,
   "metadata": {},
   "outputs": [
    {
     "data": {
      "image/png": "[encoded data removed]",
      "text/plain": [
       "<Figure size 600x600 with 1 Axes>"
      ]
     },
     "metadata": {},
     "output_type": "display_data"
    }
   ],
   "source": [
    "import numpy as np\n",
    "import random\n",
    "import matplotlib.pyplot as plt\n",
    "from matplotlib import colors\n",
    "\n",
    "# Define the grid world dimensions\n",
    "GRID_SIZE = 10\n",
    "\n",
    "# Define the grid environment with a goal (G), obstacles (O), and starting point (S)\n",
    "env = np.zeros((GRID_SIZE, GRID_SIZE))\n",
    "start_position = (0, 0)\n",
    "goal_position = (9, 9)  # Goal is placed at the bottom-right corner\n",
    "\n",
    "# Add more obstacles for the 10x10 grid\n",
    "obstacles = [(2, 2), (3, 5), (5, 3), (6, 6), (7, 7), (4, 4), (1, 8), (8, 2)]\n",
    "\n",
    "# Mark the start, goal, and obstacles in the environment\n",
    "env[start_position] = 3  # Start (Yellow)\n",
    "env[goal_position] = 2  # Goal (Green)\n",
    "for obstacle in obstacles:\n",
    "    env[obstacle] = -1  # Obstacles (Blue)\n",
    "\n",
    "# Create a custom colormap for Start (Yellow), Goal (Green), Obstacles (Blue), Path (Gray), and Empty cells (Light blue)\n",
    "cmap = colors.ListedColormap(['blue', 'lightblue', 'yellow', 'green', 'gray'])\n",
    "\n",
    "# Action space now includes diagonal movements: up, down, left, right, and 4 diagonals\n",
    "actions = ['up', 'down', 'left', 'right', 'up-left', 'up-right', 'down-left', 'down-right']\n",
    "action_mapping = {\n",
    "    'up': (-1, 0),\n",
    "    'down': (1, 0),\n",
    "    'left': (0, -1),\n",
    "    'right': (0, 1),\n",
    "    'up-left': (-1, -1),\n",
    "    'up-right': (-1, 1),\n",
    "    'down-left': (1, -1),\n",
    "    'down-right': (1, 1)\n",
    "}\n",
    "\n",
    "# Function to take an action and move the agent in the grid\n",
    "def take_action(state, action):\n",
    "    delta = action_mapping[action]\n",
    "    new_state = (state[0] + delta[0], state[1] + delta[1])\n",
    "    \n",
    "    # Ensure the new state is within grid bounds\n",
    "    if 0 <= new_state[0] < GRID_SIZE and 0 <= new_state[1] < GRID_SIZE:\n",
    "        return new_state\n",
    "    else:\n",
    "        return state  # Stay in the same position if out of bounds\n",
    "\n",
    "# Function to visualize the grid world with the agent's path\n",
    "def show_grid_with_path(env, path):\n",
    "    env_copy = np.copy(env)  # Copy the environment to avoid modifying the original\n",
    "    # Mark the agent's path on the grid\n",
    "    for step in path:\n",
    "        if env_copy[step] == 0:  # Only mark the path on empty cells\n",
    "            env_copy[step] = 4  # Mark path with gray\n",
    "    \n",
    "    plt.figure(figsize=(6, 6))  # Adjust figure size for the smaller grid\n",
    "    plt.imshow(env_copy, cmap=cmap, interpolation='nearest')  # Use 'nearest' to avoid smoothing\n",
    "    plt.grid(True)\n",
    "    \n",
    "    # Set ticks to show the correct grid lines\n",
    "    plt.xticks(ticks=np.arange(0, GRID_SIZE, 1), labels=np.arange(0, GRID_SIZE, 1), fontsize=6)\n",
    "    plt.yticks(ticks=np.arange(0, GRID_SIZE, 1), labels=np.arange(0, GRID_SIZE, 1), fontsize=6)\n",
    "    \n",
    "    # Add the grid lines\n",
    "    plt.gca().set_xticks(np.arange(-0.5, GRID_SIZE, 1), minor=True)\n",
    "    plt.gca().set_yticks(np.arange(-0.5, GRID_SIZE, 1), minor=True)\n",
    "    plt.grid(which='minor', color='black', linestyle='-', linewidth=0.5)  # Use smaller grid lines\n",
    "    \n",
    "    # Set the limits to avoid cutting off the edges\n",
    "    plt.xlim(-0.5, GRID_SIZE-0.5)\n",
    "    plt.ylim(GRID_SIZE-0.5, -0.5)\n",
    "    \n",
    "    plt.show()\n",
    "\n",
    "# Example of agent's path including diagonal movement (replace this with the actual path from your trained agent)\n",
    "example_path = [(0, 0), (1, 1), (2, 2), (3, 3), (4, 4), (5, 5), \n",
    "                (6, 6), (7, 7), (8, 8), (9, 9)]  # Including diagonal steps\n",
    "\n",
    "# Visualize the grid with the agent's path\n",
    "show_grid_with_path(env, example_path)\n"
   ]
  },
  {
   "cell_type": "code",
   "execution_count": 49,
   "metadata": {},
   "outputs": [],
   "source": [
    "# Initialize Q-table with 8 possible actions (up, down, left, right, and 4 diagonals)\n",
    "q_table = np.zeros((GRID_SIZE, GRID_SIZE, len(actions)))  # Now there are 8 actions\n",
    "\n",
    "# Hyperparameters for Q-learning\n",
    "alpha = 0.1  # Learning rate\n",
    "gamma = 0.9  # Discount factor\n",
    "epsilon = 0.1  # Exploration rate\n",
    "num_episodes = 1000\n",
    "\n",
    "# Function to choose an action based on epsilon-greedy strategy\n",
    "def choose_action(state):\n",
    "    if random.uniform(0, 1) < epsilon:  # Exploration\n",
    "        return random.choice(actions)\n",
    "    else:  # Exploitation: choose action with max Q-value\n",
    "        return actions[np.argmax(q_table[state[0], state[1]])]\n"
   ]
  },
  {
   "cell_type": "code",
   "execution_count": 50,
   "metadata": {},
   "outputs": [
    {
     "name": "stdout",
     "output_type": "stream",
     "text": [
      "Episode 0 completed.\n",
      "Episode 100 completed.\n",
      "Episode 200 completed.\n",
      "Episode 300 completed.\n",
      "Episode 400 completed.\n",
      "Episode 500 completed.\n",
      "Episode 600 completed.\n",
      "Episode 700 completed.\n",
      "Episode 800 completed.\n",
      "Episode 900 completed.\n",
      "Training completed!\n"
     ]
    }
   ],
   "source": [
    "# Training loop for Q-learning\n",
    "for episode in range(num_episodes):\n",
    "    state = start_position  # Start from the fixed starting position (0, 0)\n",
    "    done = False\n",
    "    \n",
    "    while not done:\n",
    "        action = choose_action(state)\n",
    "        next_state = take_action(state, action)\n",
    "        \n",
    "        # Get reward for the new state\n",
    "        if next_state == goal_position:\n",
    "            reward = 100  # Reward for reaching the goal\n",
    "            done = True\n",
    "        elif env[next_state] == -1:  # If the agent hits an obstacle\n",
    "            reward = -100  # Penalty for hitting obstacles\n",
    "            done = True\n",
    "        else:\n",
    "            reward = -1  # Small penalty for each step to encourage shorter paths\n",
    "        \n",
    "        # Q-learning update rule\n",
    "        best_future_q = np.max(q_table[next_state[0], next_state[1]])  # Max Q-value for the next state\n",
    "        q_table[state[0], state[1], actions.index(action)] += alpha * (reward + gamma * best_future_q - q_table[state[0], state[1], actions.index(action)])\n",
    "        \n",
    "        state = next_state  # Move to the next state\n",
    "\n",
    "    if episode % 100 == 0:\n",
    "        print(f\"Episode {episode} completed.\")\n",
    "        \n",
    "print(\"Training completed!\")\n"
   ]
  },
  {
   "cell_type": "code",
   "execution_count": 51,
   "metadata": {},
   "outputs": [
    {
     "name": "stdout",
     "output_type": "stream",
     "text": [
      "Best path: [(0, 0), (1, 1), (1, 2), (2, 3), (3, 4), (4, 5), (5, 6), (6, 7), (7, 8), (8, 8), (8, 9), (9, 9)]\n"
     ]
    }
   ],
   "source": [
    "# Function to test the agent's path after training\n",
    "def test_agent():\n",
    "    state = start_position  # Start at (0, 0)\n",
    "    path = [state]\n",
    "    \n",
    "    while state != goal_position:\n",
    "        action = actions[np.argmax(q_table[state[0], state[1]])]  # Choose the best action from the Q-table\n",
    "        state = take_action(state, action)\n",
    "        path.append(state)\n",
    "    \n",
    "    return path\n",
    "\n",
    "# Test the agent's path after training\n",
    "best_path = test_agent()\n",
    "print(\"Best path:\", best_path)\n"
   ]
  },
  {
   "cell_type": "code",
   "execution_count": 52,
   "metadata": {},
   "outputs": [
    {
     "data": {
      "image/png": "[encoded data removed]",
      "text/plain": [
       "<Figure size 600x600 with 1 Axes>"
      ]
     },
     "metadata": {},
     "output_type": "display_data"
    }
   ],
   "source": [
    "# Visualization of the agent's best path after training\n",
    "def visualize_best_path(path):\n",
    "    env_copy = np.copy(env)  # Copy the environment to avoid modifying the original\n",
    "    \n",
    "    # Mark the agent's best path on the grid\n",
    "    for step in path:\n",
    "        if env_copy[step] == 0:  # Only mark the path on empty cells\n",
    "            env_copy[step] = 4  # Mark path with gray\n",
    "    \n",
    "    # Visualize the grid with path\n",
    "    show_grid_with_path(env_copy, path)\n",
    "\n",
    "# Visualize the best path after training\n",
    "visualize_best_path(best_path)\n"
   ]
  }
 ],
 "metadata": {
  "kernelspec": {
   "display_name": "Python 3",
   "language": "python",
   "name": "python3"
  },
  "language_info": {
   "codemirror_mode": {
    "name": "ipython",
    "version": 3
   },
   "file_extension": ".py",
   "mimetype": "text/x-python",
   "name": "python",
   "nbconvert_exporter": "python",
   "pygments_lexer": "ipython3",
   "version": "3.12.3"
  }
 },
 "nbformat": 4,
 "nbformat_minor": 2
}
