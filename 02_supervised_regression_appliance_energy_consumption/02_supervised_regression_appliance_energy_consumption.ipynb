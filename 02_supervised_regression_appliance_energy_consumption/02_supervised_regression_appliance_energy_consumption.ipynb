{
 "cells": [
  {
   "cell_type": "markdown",
   "metadata": {},
   "source": [
    "# Problem Statement:\n",
    "Predicting Appliance Energy Consumption using various environmental and internal features in a smart home environment. The goal is to build a regression model that accurately estimates the energy consumption of appliances based on factors like temperature, humidity, wind speed, and visibility."
   ]
  },
  {
   "cell_type": "markdown",
   "metadata": {},
   "source": [
    "# Dataset Overview:\n",
    "The dataset contains time-series data related to environmental conditions, electrical appliances, and energy consumption. Here are the key features:\n",
    "\n",
    "- Appliances: Energy consumption in Wh (Target variable).\n",
    "- Lights: Energy consumption by lights in the house.\n",
    "- Temperature and Humidity (T1, RH_1, ...): Various temperature and humidity readings from different locations in the house (e.g., kitchen, living room, etc.).\n",
    "- Outdoor Environment: External temperature, wind speed, pressure, and visibility.\n",
    "- Other Variables: Random variables rv1, rv2 included in the dataset.\n",
    "\n",
    "The target variable is the energy consumption of appliances (Appliances), and the goal is to predict this based on the other variables."
   ]
  },
  {
   "cell_type": "markdown",
   "metadata": {},
   "source": [
    "# Steps to be covered:\n",
    "- Data Preprocessing: Handle date column, check missing value & ensure data is clean, and split the dataset.\n",
    "- Model Training: Train a model using Gradient Boosting Regressor.\n",
    "- Model Evaluation: Use evaluation metrics like Root Mean Squared Error (RMSE), Mean Absolute Error (MAE), and R-squared (R²) to assess the model's performance.\n",
    "- Save the Model: Save the trained model.\n",
    "- Load and Predict: Use the saved model for predictions."
   ]
  },
  {
   "cell_type": "markdown",
   "metadata": {},
   "source": [
    "# Import Libraries and Load Dataset"
   ]
  },
  {
   "cell_type": "code",
   "execution_count": null,
   "metadata": {},
   "outputs": [],
   "source": [
    "# Import required libraries\n",
    "import pandas as pd\n",
    "from sklearn.model_selection import train_test_split\n",
    "from sklearn.ensemble import GradientBoostingRegressor\n",
    "from sklearn.metrics import mean_squared_error, mean_absolute_error, r2_score\n",
    "import joblib\n",
    "\n",
    "# Load the dataset\n",
    "file_path = 'energydata_complete.csv'\n",
    "data = pd.read_csv(file_path)\n",
    "\n",
    "# Display the first few rows of the dataset to understand its structure\n",
    "data.head()\n"
   ]
  },
  {
   "cell_type": "markdown",
   "metadata": {},
   "source": [
    "# Data Preprocessing"
   ]
  },
  {
   "cell_type": "code",
   "execution_count": 2,
   "metadata": {},
   "outputs": [
    {
     "name": "stdout",
     "output_type": "stream",
     "text": [
      "Appliances     0\n",
      "lights         0\n",
      "T1             0\n",
      "RH_1           0\n",
      "T2             0\n",
      "RH_2           0\n",
      "T3             0\n",
      "RH_3           0\n",
      "T4             0\n",
      "RH_4           0\n",
      "T5             0\n",
      "RH_5           0\n",
      "T6             0\n",
      "RH_6           0\n",
      "T7             0\n",
      "RH_7           0\n",
      "T8             0\n",
      "RH_8           0\n",
      "T9             0\n",
      "RH_9           0\n",
      "T_out          0\n",
      "Press_mm_hg    0\n",
      "RH_out         0\n",
      "Windspeed      0\n",
      "Visibility     0\n",
      "Tdewpoint      0\n",
      "rv1            0\n",
      "rv2            0\n",
      "dtype: int64\n"
     ]
    },
    {
     "data": {
      "text/plain": [
       "((15788, 27), (3947, 27), (15788,), (3947,))"
      ]
     },
     "execution_count": 2,
     "metadata": {},
     "output_type": "execute_result"
    }
   ],
   "source": [
    "# Convert the 'date' column to datetime format\n",
    "data['date'] = pd.to_datetime(data['date'])\n",
    "\n",
    "# Drop the 'date' column as it's not needed for modeling\n",
    "data = data.drop(columns=['date'])\n",
    "\n",
    "# Check for missing values\n",
    "print(data.isnull().sum())  # Ensure there are no missing values\n",
    "\n",
    "# Split the data into features (X) and target (y)\n",
    "X = data.drop(columns=['Appliances'])  # Features are all columns except 'Appliances'\n",
    "y = data['Appliances']  # Target variable is 'Appliances'\n",
    "\n",
    "# Split the dataset into training and test sets\n",
    "X_train, X_test, y_train, y_test = train_test_split(X, y, test_size=0.2, random_state=42)\n",
    "\n",
    "# Display the shape of training and test data\n",
    "X_train.shape, X_test.shape, y_train.shape, y_test.shape\n"
   ]
  },
  {
   "cell_type": "markdown",
   "metadata": {},
   "source": [
    "# Model Training (Gradient Boosting Regressor)"
   ]
  },
  {
   "cell_type": "code",
   "execution_count": 13,
   "metadata": {},
   "outputs": [
    {
     "name": "stdout",
     "output_type": "stream",
     "text": [
      "Root Mean Squared Error (RMSE): 86.04039404289088\n",
      "Mean Absolute Error (MAE): 47.21612484004351\n",
      "R-squared (R²): 0.2602296374169759\n"
     ]
    }
   ],
   "source": [
    "# Initialize the Gradient Boosting Regressor\n",
    "gb_regressor = GradientBoostingRegressor(random_state=42)\n",
    "\n",
    "# Train the model on the training data\n",
    "gb_regressor.fit(X_train, y_train)\n",
    "\n",
    "# Predict on the test data\n",
    "y_pred = gb_regressor.predict(X_test)\n",
    "\n",
    "# Use root_mean_squared_error function instead of squared=False in mean_squared_error\n",
    "from sklearn.metrics import root_mean_squared_error, mean_absolute_error, r2_score, mean_squared_error\n",
    "\n",
    "# Calculate RMSE, MAE, and R²\n",
    "rmse = root_mean_squared_error(y_test, y_pred)  # This will be deprecated soon\n",
    "mae = mean_absolute_error(y_test, y_pred)\n",
    "r2 = r2_score(y_test, y_pred)\n",
    "\n",
    "# Output evaluation metrics\n",
    "print(f\"Root Mean Squared Error (RMSE): {rmse}\")\n",
    "print(f\"Mean Absolute Error (MAE): {mae}\")\n",
    "print(f\"R-squared (R²): {r2}\")"
   ]
  },
  {
   "cell_type": "markdown",
   "metadata": {},
   "source": [
    "These metrics provide a general sense of how well the model is doing in terms of both absolute error (RMSE, MAE) and the model's overall explanatory power (R²).\n",
    "\n",
    "### 1. Root Mean Squared Error (RMSE):\n",
    "- Value: 86.04\n",
    "- Explanation: RMSE tells us how far, on average, our model's predictions are from the actual values. The error is measured in the same units as the target variable (Appliances energy consumption in Wh).\n",
    "- In Simple Terms: On average, the model’s predictions for appliance energy consumption are about 86 Wh off from the true values.\n",
    "### 2. Mean Absolute Error (MAE):\n",
    "- Value: 47.22\n",
    "- Explanation: MAE gives the average magnitude of the errors between predictions and actual values, without considering the direction of the errors (whether the prediction is too high or too low).\n",
    "- In Simple Terms: On average, the model’s predictions are about 47 Wh off from the true appliance energy consumption.\n",
    "### 3. R-squared (R²):\n",
    "- Value: 0.26\n",
    "- Explanation: R² measures how well the model explains the variability in the target variable. An R² of 1 means the model perfectly explains the data, while 0 means it does not explain any variability.\n",
    "- In Simple Terms: The model explains only 26% of the variation in appliance energy consumption. This suggests that the model could be improved or that the data might have other factors influencing energy consumption that the model isn't capturing well.\n"
   ]
  },
  {
   "cell_type": "markdown",
   "metadata": {},
   "source": [
    "# Save the Model"
   ]
  },
  {
   "cell_type": "code",
   "execution_count": 14,
   "metadata": {},
   "outputs": [
    {
     "name": "stdout",
     "output_type": "stream",
     "text": [
      "Model saved to appliance_energy_gb_model.pkl\n"
     ]
    }
   ],
   "source": [
    "# Save the trained model to a file\n",
    "model_filename = 'appliance_energy_gb_model.pkl'\n",
    "joblib.dump(gb_regressor, model_filename)\n",
    "\n",
    "print(f\"Model saved to {model_filename}\")\n"
   ]
  },
  {
   "cell_type": "markdown",
   "metadata": {},
   "source": [
    "# Load and Predict using the Saved Model"
   ]
  },
  {
   "cell_type": "code",
   "execution_count": 16,
   "metadata": {},
   "outputs": [
    {
     "name": "stdout",
     "output_type": "stream",
     "text": [
      "Sample Appliance Energy Consumption Predictions:\n",
      "Prediction 1: The predicted energy consumption is approximately 60.31 Wh.\n",
      "Prediction 2: The predicted energy consumption is approximately 189.48 Wh.\n",
      "Prediction 3: The predicted energy consumption is approximately 49.41 Wh.\n",
      "Prediction 4: The predicted energy consumption is approximately 113.20 Wh.\n",
      "Prediction 5: The predicted energy consumption is approximately 70.73 Wh.\n",
      "Prediction 6: The predicted energy consumption is approximately 174.69 Wh.\n",
      "Prediction 7: The predicted energy consumption is approximately 135.46 Wh.\n",
      "Prediction 8: The predicted energy consumption is approximately 192.87 Wh.\n",
      "Prediction 9: The predicted energy consumption is approximately 83.42 Wh.\n",
      "Prediction 10: The predicted energy consumption is approximately 90.55 Wh.\n"
     ]
    }
   ],
   "source": [
    "# Load the saved model\n",
    "loaded_model = joblib.load(model_filename)\n",
    "\n",
    "# Make predictions on the test set with the loaded model\n",
    "loaded_model_predictions = loaded_model.predict(X_test)\n",
    "\n",
    "# Display a few predictions with explanations\n",
    "print(\"Sample Appliance Energy Consumption Predictions:\")\n",
    "for i, pred in enumerate(loaded_model_predictions[:10], 1):\n",
    "    print(f\"Prediction {i}: The predicted energy consumption is approximately {pred:.2f} Wh.\")\n"
   ]
  }
 ],
 "metadata": {
  "kernelspec": {
   "display_name": "Python 3",
   "language": "python",
   "name": "python3"
  },
  "language_info": {
   "codemirror_mode": {
    "name": "ipython",
    "version": 3
   },
   "file_extension": ".py",
   "mimetype": "text/x-python",
   "name": "python",
   "nbconvert_exporter": "python",
   "pygments_lexer": "ipython3",
   "version": "3.12.3"
  }
 },
 "nbformat": 4,
 "nbformat_minor": 2
}
